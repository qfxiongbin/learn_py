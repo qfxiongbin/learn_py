{
 "cells": [
  {
   "cell_type": "code",
   "execution_count": 1,
   "metadata": {},
   "outputs": [],
   "source": [
    "def get_stats(numbers):\n",
    "  minimum = min(numbers)\n",
    "  maximum = max(numbers)\n",
    "  return minimum, maximum"
   ]
  },
  {
   "cell_type": "code",
   "execution_count": 2,
   "metadata": {},
   "outputs": [
    {
     "name": "stdout",
     "output_type": "stream",
     "text": [
      "Min: 60, Max: 73\n"
     ]
    }
   ],
   "source": [
    "lengths = [63, 73, 72, 60, 67, 66, 71, 61, 72, 70]\n",
    "\n",
    "minimum, maximum = get_stats(lengths)\n",
    "\n",
    "print(f'Min: {minimum}, Max: {maximum}')"
   ]
  },
  {
   "cell_type": "markdown",
   "metadata": {},
   "source": [
    "# 演示unpacking 语句和返回多个值的函数"
   ]
  },
  {
   "cell_type": "code",
   "execution_count": 5,
   "metadata": {},
   "outputs": [],
   "source": [
    "first, second = 1, 2\n",
    "assert first == 1\n",
    "assert second == 2\n",
    "\n",
    "def my_function():\n",
    "    return 1, 2\n",
    "\n",
    "first, second = my_function()\n",
    "assert first == 1\n",
    "assert second == 2"
   ]
  },
  {
   "cell_type": "markdown",
   "metadata": {},
   "source": [
    "用*返回没有被捕获到的值"
   ]
  },
  {
   "cell_type": "code",
   "execution_count": 6,
   "metadata": {},
   "outputs": [
    {
     "name": "stdout",
     "output_type": "stream",
     "text": [
      "Longest: 108%\n"
     ]
    }
   ],
   "source": [
    "def get_avg_ratio(numbers):\n",
    "  average = sum(numbers) / len(numbers)\n",
    "  scaled = [x / average for x in numbers]\n",
    "  scaled.sort(reverse=True)\n",
    "  return scaled\n",
    "\n",
    "longest, *middle, shortest = get_avg_ratio(lengths)\n",
    "\n",
    "print(f'Longest: {longest:>4.0%}')\n",
    "print(f'Shortest: {shortest:>4.0%}')"
   ]
  },
  {
   "cell_type": "markdown",
   "metadata": {},
   "source": [
    "## 在闭包中使用外围变量"
   ]
  },
  {
   "cell_type": "code",
   "execution_count": 4,
   "metadata": {},
   "outputs": [],
   "source": [
    "def sort_priority(values, group):\n",
    "    found = False\n",
    "    def helper(x):\n",
    "        nonlocal found # Must declare nonlocal to modify\n",
    "        if x in group:\n",
    "            found = True # Seems simple\n",
    "            return (0, x)\n",
    "        return (1, x)\n",
    "    values.sort(key=helper)\n",
    "    return found"
   ]
  },
  {
   "cell_type": "code",
   "execution_count": 5,
   "metadata": {},
   "outputs": [],
   "source": [
    "values = [3, 5, 1, 2, 4]\n",
    "group = [1, 2, 3]\n",
    "expected = True\n",
    "result = sort_priority(values, group)\n",
    "assert result == expected, f\"Expected {expected}, but got {result}\""
   ]
  }
 ],
 "metadata": {
  "kernelspec": {
   "display_name": "Python 3",
   "language": "python",
   "name": "python3"
  },
  "language_info": {
   "codemirror_mode": {
    "name": "ipython",
    "version": 3
   },
   "file_extension": ".py",
   "mimetype": "text/x-python",
   "name": "python",
   "nbconvert_exporter": "python",
   "pygments_lexer": "ipython3",
   "version": "3.9.13"
  },
  "orig_nbformat": 4
 },
 "nbformat": 4,
 "nbformat_minor": 2
}
